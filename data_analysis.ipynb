{
 "cells": [
  {
   "cell_type": "markdown",
   "metadata": {},
   "source": [
    "# Loading the dataset"
   ]
  },
  {
   "cell_type": "code",
   "execution_count": 1,
   "metadata": {},
   "outputs": [],
   "source": [
    "import pandas as pd\n",
    "import numpy as np\n",
    "import string\n",
    "import matplotlib.pyplot as plt\n",
    "from torchvision.datasets import CocoCaptions\n",
    "from torchvision.transforms import transforms\n",
    "import nltk\n",
    "from sklearn.cluster import KMeans\n",
    "from gensim.models import KeyedVectors"
   ]
  },
  {
   "cell_type": "code",
   "execution_count": 2,
   "metadata": {},
   "outputs": [
    {
     "name": "stderr",
     "output_type": "stream",
     "text": [
      "[nltk_data] Downloading package averaged_perceptron_tagger to\n",
      "[nltk_data]     C:\\Users\\aumpa\\AppData\\Roaming\\nltk_data...\n",
      "[nltk_data]   Package averaged_perceptron_tagger is already up-to-\n",
      "[nltk_data]       date!\n"
     ]
    },
    {
     "data": {
      "text/plain": [
       "True"
      ]
     },
     "execution_count": 2,
     "metadata": {},
     "output_type": "execute_result"
    }
   ],
   "source": [
    "nltk.download('averaged_perceptron_tagger') # requires internet"
   ]
  },
  {
   "cell_type": "code",
   "execution_count": 3,
   "metadata": {},
   "outputs": [
    {
     "name": "stdout",
     "output_type": "stream",
     "text": [
      "loading annotations into memory...\n",
      "Done (t=2.07s)\n",
      "creating index...\n",
      "index created!\n"
     ]
    }
   ],
   "source": [
    "# Define paths for datasets\n",
    "data_type = 'train2014' # or 'val2014' \n",
    "captions_file = f'archive/captions/annotations/captions_{data_type}.json'\n",
    "image_dir = f'archive/images/{data_type}'\n",
    "\n",
    "# Apply a series of Augmentations to data\n",
    "transform = transforms.Compose([\n",
    "    transforms.Resize((224, 224)),\n",
    "    transforms.ToTensor(),\n",
    "])\n",
    "\n",
    "dataset = CocoCaptions(root=image_dir, annFile=captions_file, transform=transform)"
   ]
  },
  {
   "cell_type": "code",
   "execution_count": null,
   "metadata": {},
   "outputs": [],
   "source": [
    "dataset[0] # first image, returns a tuple (tensor, list)"
   ]
  },
  {
   "cell_type": "code",
   "execution_count": 5,
   "metadata": {},
   "outputs": [
    {
     "data": {
      "text/plain": [
       "torchvision.datasets.coco.CocoCaptions"
      ]
     },
     "execution_count": 5,
     "metadata": {},
     "output_type": "execute_result"
    }
   ],
   "source": [
    "type(dataset)"
   ]
  },
  {
   "cell_type": "code",
   "execution_count": 6,
   "metadata": {
    "scrolled": true
   },
   "outputs": [
    {
     "data": {
      "text/plain": [
       "['Closeup of bins of food that include broccoli and bread.',\n",
       " 'A meal is presented in brightly colored plastic trays.',\n",
       " 'there are containers filled with different kinds of foods',\n",
       " 'Colorful dishes holding meat, vegetables, fruit, and bread.',\n",
       " 'A bunch of trays that have different food.']"
      ]
     },
     "execution_count": 6,
     "metadata": {},
     "output_type": "execute_result"
    }
   ],
   "source": [
    "dataset[0][1] # returns list of captions for the first image"
   ]
  },
  {
   "cell_type": "code",
   "execution_count": 7,
   "metadata": {},
   "outputs": [
    {
     "data": {
      "text/plain": [
       "'there are containers filled with different kinds of foods'"
      ]
     },
     "execution_count": 7,
     "metadata": {},
     "output_type": "execute_result"
    }
   ],
   "source": [
    "dataset[0][1][2]"
   ]
  },
  {
   "cell_type": "markdown",
   "metadata": {},
   "source": [
    "### Creating `master_list`:"
   ]
  },
  {
   "cell_type": "code",
   "execution_count": null,
   "metadata": {
    "scrolled": true
   },
   "outputs": [],
   "source": [
    "# master_list is the list of all words extracted from all captions.\n",
    "# creating the master list:\n",
    "\n",
    "master_list = []\n",
    "translator = str.maketrans('', '', string.punctuation)\n",
    "for i in range(len(dataset)):\n",
    "    current_caption = dataset[i][1]\n",
    "    for k in range(len(current_caption)):\n",
    "        current_string = current_caption[k]\n",
    "        current_string = current_string.translate(translator) # remove punctuation symbols from current_string\n",
    "        master_list.extend(current_string.split(\" \"))"
   ]
  },
  {
   "cell_type": "code",
   "execution_count": null,
   "metadata": {
    "scrolled": true
   },
   "outputs": [],
   "source": [
    "master_list"
   ]
  },
  {
   "cell_type": "code",
   "execution_count": 9,
   "metadata": {},
   "outputs": [],
   "source": [
    "# convert all words in master_list to lowercase:\n",
    "\n",
    "master_list = [word.lower() for word in master_list]\n",
    "# master_list"
   ]
  },
  {
   "cell_type": "markdown",
   "metadata": {},
   "source": [
    "# General quantitative analysis"
   ]
  },
  {
   "cell_type": "markdown",
   "metadata": {},
   "source": [
    "### Number of images in the dataset"
   ]
  },
  {
   "cell_type": "code",
   "execution_count": 10,
   "metadata": {},
   "outputs": [
    {
     "name": "stdout",
     "output_type": "stream",
     "text": [
      "Number of images in the dataset = 82783\n"
     ]
    }
   ],
   "source": [
    "print(f\"Number of images in the dataset = {len(dataset)}\")"
   ]
  },
  {
   "cell_type": "markdown",
   "metadata": {},
   "source": [
    "### Number of captions"
   ]
  },
  {
   "cell_type": "code",
   "execution_count": 11,
   "metadata": {},
   "outputs": [
    {
     "name": "stdout",
     "output_type": "stream",
     "text": [
      "Caption to image ratio = 5\n",
      "Total number of captions in the dataset = 413915\n",
      "Total number of words in all captions = 85261\n",
      "Average number of words that describe an image = 1.0299336820361669\n"
     ]
    }
   ],
   "source": [
    "caption_to_image_ratio = len(dataset[0][1])\n",
    "total_captions = len(dataset[0][1]) * len(dataset)\n",
    "word_to_image_ratio = len(master_list) / len(dataset) # first load the full master_list in memory\n",
    "\n",
    "print(f\"Caption to image ratio = {caption_to_image_ratio}\")\n",
    "print(f\"Total number of captions in the dataset = {total_captions}\")\n",
    "print(f\"Total number of words in all captions = {len(master_list)}\")\n",
    "print(f\"Average number of words that describe an image = {word_to_image_ratio}\")"
   ]
  },
  {
   "cell_type": "markdown",
   "metadata": {},
   "source": [
    "### Number of unique words in the dataset"
   ]
  },
  {
   "cell_type": "code",
   "execution_count": 12,
   "metadata": {},
   "outputs": [
    {
     "name": "stderr",
     "output_type": "stream",
     "text": [
      "C:\\Users\\aumpa\\AppData\\Local\\Temp\\ipykernel_10264\\2233429665.py:15: UserWarning: FixedFormatter should only be used together with FixedLocator\n",
      "  ax.set_xticklabels(word_types, rotation=90) # Set the x-tick labels vertically\n"
     ]
    },
    {
     "data": {
      "image/png": "[encoded data removed]",
      "text/plain": [
       "<Figure size 640x480 with 1 Axes>"
      ]
     },
     "metadata": {},
     "output_type": "display_data"
    },
    {
     "name": "stdout",
     "output_type": "stream",
     "text": [
      "NOTE: Total number of unique words in dataset = 4297\n"
     ]
    }
   ],
   "source": [
    "master_list_unique = list(set(word.lower() for word in master_list)) # list of unique words in the master_list\n",
    "num_of_unique_words = len(master_list_unique)\n",
    "nouns = [word for (word, pos) in nltk.pos_tag(master_list_unique) if pos.startswith('N')] # list of all nouns in master_list_unique\n",
    "pronouns = [word[0] for word in nltk.pos_tag(master_list_unique) if word[1] == \"PRP\"]\n",
    "verbs = [word[0] for word in nltk.pos_tag(master_list_unique) if word[1].startswith(\"VB\")]\n",
    "adjectives = [word[0] for word in nltk.pos_tag(master_list_unique) if word[1] == \"JJ\"]\n",
    "adverbs = [word[0] for word in nltk.pos_tag(master_list_unique) if word[1] == \"RB\"]\n",
    "prepositions = [word[0] for word in nltk.pos_tag(master_list_unique) if word[1] == \"IN\"]\n",
    "conjunctions = [word[0] for word in nltk.pos_tag(master_list_unique) if word[1] == \"CC\"]\n",
    "\n",
    "counts = [len(nouns), len(pronouns), len(verbs), len(adjectives), len(adverbs), len(prepositions), len(conjunctions)]\n",
    "word_types = [\"Nouns\", \"Pronouns\", \"Verbs\", \"Adjectives\", \"Adverbs\", \"Prepositions\", \"Conjunctions\"]\n",
    "fig, ax = plt.subplots() # Create the bar plot\n",
    "ax.bar(word_types, counts)\n",
    "ax.set_xticklabels(word_types, rotation=90) # Set the x-tick labels vertically\n",
    "ax.set_title(\"Counts of Different Types of Words\")\n",
    "ax.set_xlabel(\"Word Types\")\n",
    "ax.set_ylabel(\"Counts\")\n",
    "plt.show() # display the plot\n",
    "\n",
    "print(f\"NOTE: Total number of unique words in dataset = {num_of_unique_words}\")"
   ]
  },
  {
   "cell_type": "markdown",
   "metadata": {},
   "source": [
    "# Semantically clustering the words in `master_list`"
   ]
  },
  {
   "cell_type": "markdown",
   "metadata": {},
   "source": [
    "Find the pre-trained word2vec model [here](https://www.kaggle.com/datasets/leadbest/googlenewsvectorsnegative300)."
   ]
  },
  {
   "cell_type": "code",
   "execution_count": 13,
   "metadata": {
    "scrolled": true
   },
   "outputs": [],
   "source": [
    "# load pre-trained word embeddings\n",
    "word_vectors = KeyedVectors.load_word2vec_format('./GoogleNews-vectors-negative300.bin', binary=True) # 3.39 GB file"
   ]
  },
  {
   "cell_type": "code",
   "execution_count": 14,
   "metadata": {
    "scrolled": true
   },
   "outputs": [
    {
     "name": "stderr",
     "output_type": "stream",
     "text": [
      "C:\\Users\\aumpa\\anaconda3\\envs\\img_caption\\lib\\site-packages\\sklearn\\cluster\\_kmeans.py:870: FutureWarning: The default value of `n_init` will change from 10 to 'auto' in 1.4. Set the value of `n_init` explicitly to suppress the warning\n",
      "  warnings.warn(\n"
     ]
    }
   ],
   "source": [
    "# create a list of word embeddings\n",
    "embeddings = []\n",
    "for word in master_list_unique:\n",
    "    if word in word_vectors:\n",
    "        embeddings.append(word_vectors[word])\n",
    "\n",
    "# determine the number of clusters using the elbow method\n",
    "distortions = []\n",
    "for i in range(1, 31):\n",
    "    kmeans = KMeans(n_clusters=i, random_state=0, n_init=\"auto\").fit(embeddings) # n_init=\"auto\", else it gives warnings for each cluster\n",
    "    distortions.append(kmeans.inertia_)\n",
    "    \n",
    "num_clusters = np.argmin(distortions) + 1\n",
    "\n",
    "# perform KMeans clustering\n",
    "kmeans = KMeans(n_clusters=num_clusters, random_state=0).fit(embeddings)\n",
    "\n",
    "# print the clusters\n",
    "for i in range(num_clusters):\n",
    "    cluster = np.where(kmeans.labels_ == i)[0]\n",
    "    words = [master_list_unique[j] for j in cluster]\n",
    "    # print(f\"Cluster {i+1}: {words}\")"
   ]
  },
  {
   "cell_type": "markdown",
   "metadata": {},
   "source": [
    "### Optimal number of clusters (K) using elbow method"
   ]
  },
  {
   "cell_type": "markdown",
   "metadata": {},
   "source": [
    "More is the value of K, more diverse is the dataset."
   ]
  },
  {
   "cell_type": "code",
   "execution_count": 15,
   "metadata": {},
   "outputs": [
    {
     "data": {
      "text/plain": [
       "30"
      ]
     },
     "execution_count": 15,
     "metadata": {},
     "output_type": "execute_result"
    }
   ],
   "source": [
    "num_clusters # comparing `distortion` for K-value ranging from 1 to 30"
   ]
  },
  {
   "cell_type": "code",
   "execution_count": 16,
   "metadata": {},
   "outputs": [
    {
     "data": {
      "image/png": "[encoded data removed]",
      "text/plain": [
       "<Figure size 640x480 with 1 Axes>"
      ]
     },
     "metadata": {},
     "output_type": "display_data"
    }
   ],
   "source": [
    "plt.plot(range(1, 31), distortions)\n",
    "plt.title('Elbow Curve')\n",
    "plt.xlabel('Number of Clusters')\n",
    "plt.ylabel('Distortion')\n",
    "plt.show()"
   ]
  },
  {
   "cell_type": "markdown",
   "metadata": {},
   "source": [
    "Slope of above curve becomes low rapidly at K=10."
   ]
  }
 ],
 "metadata": {
  "kernelspec": {
   "display_name": "Python 3 (ipykernel)",
   "language": "python",
   "name": "python3"
  },
  "language_info": {
   "codemirror_mode": {
    "name": "ipython",
    "version": 3
   },
   "file_extension": ".py",
   "mimetype": "text/x-python",
   "name": "python",
   "nbconvert_exporter": "python",
   "pygments_lexer": "ipython3",
   "version": "3.9.16"
  }
 },
 "nbformat": 4,
 "nbformat_minor": 2
}
